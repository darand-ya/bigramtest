{
 "cells": [
  {
   "cell_type": "code",
   "execution_count": 18,
   "metadata": {},
   "outputs": [
    {
     "ename": "FileNotFoundError",
     "evalue": "[Errno 2] No such file or directory: 'C:\\\\Users\\\\d.anzon\\\\bigram txt\\\\sample\\\\Rowling J.. Harry Potter and the Deathly Hallows - royallib.com.txt.txt'",
     "output_type": "error",
     "traceback": [
      "\u001b[1;31m---------------------------------------------------------------------------\u001b[0m",
      "\u001b[1;31mFileNotFoundError\u001b[0m                         Traceback (most recent call last)",
      "\u001b[1;32m<ipython-input-18-9f229d1867f3>\u001b[0m in \u001b[0;36m<module>\u001b[1;34m\u001b[0m\n\u001b[0;32m      2\u001b[0m \u001b[0mpath2\u001b[0m \u001b[1;33m=\u001b[0m \u001b[1;34mr\"C:\\Users\\d.anzon\\bigram txt\\sample\\a.txt\"\u001b[0m\u001b[1;33m\u001b[0m\u001b[1;33m\u001b[0m\u001b[0m\n\u001b[0;32m      3\u001b[0m \u001b[1;33m\u001b[0m\u001b[0m\n\u001b[1;32m----> 4\u001b[1;33m \u001b[0msample\u001b[0m \u001b[1;33m=\u001b[0m \u001b[0mopen\u001b[0m\u001b[1;33m(\u001b[0m\u001b[0mpath\u001b[0m\u001b[1;33m)\u001b[0m\u001b[1;33m\u001b[0m\u001b[1;33m\u001b[0m\u001b[0m\n\u001b[0m",
      "\u001b[1;31mFileNotFoundError\u001b[0m: [Errno 2] No such file or directory: 'C:\\\\Users\\\\d.anzon\\\\bigram txt\\\\sample\\\\Rowling J.. Harry Potter and the Deathly Hallows - royallib.com.txt.txt'"
     ]
    }
   ],
   "source": [
    "path = r\"C:\\Users\\d.anzon\\bigram txt\\sample\\Rowling J.. Harry Potter and the Deathly Hallows - royallib.com.txt.txt\"\n",
    "path2 = r\"C:\\Users\\d.anzon\\bigram txt\\sample\\a.txt\"\n",
    "\n",
    "sample = open(path)\n"
   ]
  },
  {
   "cell_type": "code",
   "execution_count": null,
   "metadata": {},
   "outputs": [],
   "source": [
    "import re\n",
    "from collections import Counter\n",
    "import random\n"
   ]
  },
  {
   "cell_type": "code",
   "execution_count": null,
   "metadata": {},
   "outputs": [],
   "source": [
    "class bigram_model:\n",
    "    patterns = {}\n",
    " \n",
    "    def __init__(self):\n",
    "        \"\"\"Constructor\"\"\"\n",
    "        pass\n",
    "    \n",
    "    def fit(sample):\n",
    "        words = re.findall('\\w+', sample.read())\n",
    "        n1 = Counter(zip(words,words[1:]))\n",
    "        n2 = {}\n",
    "        for i in n1:    \n",
    "            n2.update({i[0]:[]})\n",
    "        for i in n1:\n",
    "            for j in range(0,n1[i]):\n",
    "                n2[i[0]].append(i[1])\n",
    "        \n",
    "        self.patterns.update(n2)\n",
    "        return n2\n",
    "    \n",
    "    def generate_seq(start_word,length):\n",
    "        seq = start_word\n",
    "        prev = start_word\n",
    "        for i in range(0, length):\n",
    "            cur = random.choice(self.patterns[prev])\n",
    "            seq = seq + \" \" + cur\n",
    "            prev = cur\n",
    "        return seq\n",
    "    \n",
    "    def generate_word(self):\n",
    "        return random.choice(list(self.patterns.values()))\n",
    "        \n",
    "    "
   ]
  },
  {
   "cell_type": "code",
   "execution_count": null,
   "metadata": {},
   "outputs": [],
   "source": [
    "harry = bigram_model()\n",
    "harry.fit(sample.read())\n",
    "a = harry.generate_word()\n",
    "print(harry.generate_seq(a, 10))"
   ]
  },
  {
   "cell_type": "code",
   "execution_count": null,
   "metadata": {},
   "outputs": [],
   "source": []
  }
 ],
 "metadata": {
  "kernelspec": {
   "display_name": "Python 3",
   "language": "python",
   "name": "python3"
  },
  "language_info": {
   "codemirror_mode": {
    "name": "ipython",
    "version": 3
   },
   "file_extension": ".py",
   "mimetype": "text/x-python",
   "name": "python",
   "nbconvert_exporter": "python",
   "pygments_lexer": "ipython3",
   "version": "3.7.1"
  }
 },
 "nbformat": 4,
 "nbformat_minor": 2
}
